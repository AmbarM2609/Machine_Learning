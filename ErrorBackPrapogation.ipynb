{
  "nbformat": 4,
  "nbformat_minor": 0,
  "metadata": {
    "colab": {
      "provenance": [],
      "authorship_tag": "ABX9TyNDaZrvdd5Ta56nGUJHscID",
      "include_colab_link": true
    },
    "kernelspec": {
      "name": "python3",
      "display_name": "Python 3"
    },
    "language_info": {
      "name": "python"
    }
  },
  "cells": [
    {
      "cell_type": "markdown",
      "metadata": {
        "id": "view-in-github",
        "colab_type": "text"
      },
      "source": [
        "<a href=\"https://colab.research.google.com/github/AmbarM2609/technological-content/blob/main/ErrorBP.ipynb\" target=\"_parent\"><img src=\"https://colab.research.google.com/assets/colab-badge.svg\" alt=\"Open In Colab\"/></a>"
      ]
    },
    {
      "cell_type": "code",
      "execution_count": null,
      "metadata": {
        "id": "N8lt7VFFTP2H"
      },
      "outputs": [],
      "source": [
        "import numpy as np\n",
        "\n",
        "class Perceptron:\n",
        "    \n",
        "    def __init__(self, num_inputs):\n",
        "        # Initialize weights randomly with mean 0\n",
        "        self.weights = 2 * np.random.random((num_inputs, 1)) - 1\n",
        "        \n",
        "    def predict(self, inputs):\n",
        "        # Calculate dot product of inputs and weights\n",
        "        # Apply step function to output to get binary prediction\n",
        "        return np.where(np.dot(inputs, self.weights) > 0, 1, 0)\n",
        "    \n",
        "    def train(self, inputs, labels, num_epochs, learning_rate):\n",
        "        for epoch in range(num_epochs):\n",
        "            for i in range(len(inputs)):\n",
        "                # Forward pass\n",
        "                prediction = self.predict(inputs[i])\n",
        "                \n",
        "                # Backward pass\n",
        "                error = labels[i] - prediction\n",
        "                adjustment = learning_rate * error * inputs[i].reshape(-1, 1)\n",
        "                self.weights += adjustment"
      ]
    },
    {
      "cell_type": "code",
      "source": [
        "p = Perceptron(2)"
      ],
      "metadata": {
        "id": "5nzD2BijTYWp"
      },
      "execution_count": null,
      "outputs": []
    },
    {
      "cell_type": "code",
      "source": [
        "inputs = np.array([[0, 0], [0, 1], [1, 0], [1, 1]])\n",
        "labels = np.array([0, 0, 0, 1])\n",
        "\n",
        "p.train(inputs, labels, 10000, 0.1)"
      ],
      "metadata": {
        "id": "0igKSWBZTYZy"
      },
      "execution_count": null,
      "outputs": []
    },
    {
      "cell_type": "code",
      "source": [
        "print(p.predict(np.array([0, 0])))  # should output 0\n",
        "print(p.predict(np.array([0, 1])))  # should output 0\n",
        "print(p.predict(np.array([1, 0])))  # should output 0\n",
        "print(p.predict(np.array([1, 1])))  # should output 1"
      ],
      "metadata": {
        "colab": {
          "base_uri": "https://localhost:8080/"
        },
        "id": "jgp77mZ-TY9j",
        "outputId": "e05262ba-d8bc-40de-c3a2-54b9869b5ec5"
      },
      "execution_count": null,
      "outputs": [
        {
          "output_type": "stream",
          "name": "stdout",
          "text": [
            "[0]\n",
            "[1]\n",
            "[1]\n",
            "[1]\n"
          ]
        }
      ]
    }
  ]
}
