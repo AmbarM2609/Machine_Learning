{
  "nbformat": 4,
  "nbformat_minor": 0,
  "metadata": {
    "colab": {
      "provenance": [],
      "authorship_tag": "ABX9TyMD5zOlYc4mUSqRvR5Rivz0",
      "include_colab_link": true
    },
    "kernelspec": {
      "name": "python3",
      "display_name": "Python 3"
    },
    "language_info": {
      "name": "python"
    }
  },
  "cells": [
    {
      "cell_type": "markdown",
      "metadata": {
        "id": "view-in-github",
        "colab_type": "text"
      },
      "source": [
        "<a href=\"https://colab.research.google.com/github/AmbarM2609/technological-content/blob/main/Perceptron.ipynb\" target=\"_parent\"><img src=\"https://colab.research.google.com/assets/colab-badge.svg\" alt=\"Open In Colab\"/></a>"
      ]
    },
    {
      "cell_type": "code",
      "execution_count": null,
      "metadata": {
        "colab": {
          "base_uri": "https://localhost:8080/"
        },
        "id": "WXfE6DsgRlC6",
        "outputId": "cce51e1e-b95e-49da-cbeb-23dff6e0c266"
      },
      "outputs": [
        {
          "output_type": "stream",
          "name": "stdout",
          "text": [
            "[-3.  2.  1.]\n"
          ]
        }
      ],
      "source": [
        "import numpy as np\n",
        "\n",
        "class Perceptron:\n",
        "    def __init__(self, input_size, lr=1, epochs=10):\n",
        "        self.W = np.zeros(input_size+1)\n",
        "        self.epochs = epochs\n",
        "        self.lr = lr\n",
        "        \n",
        "    def activation_fn(self, x):\n",
        "        return 1 if x >= 0 else 0\n",
        "    \n",
        "    def predict(self, x):\n",
        "        x = np.insert(x, 0, 1)\n",
        "        z = self.W.T.dot(x)\n",
        "        a = self.activation_fn(z)\n",
        "        return a\n",
        "    \n",
        "    def fit(self, X, d):\n",
        "        for _ in range(self.epochs):\n",
        "            for i in range(d.shape[0]):\n",
        "                x = np.insert(X[i], 0, 1)\n",
        "                y = self.predict(X[i])\n",
        "                e = d[i] - y\n",
        "                self.W = self.W + self.lr * e * x\n",
        "                \n",
        "X = np.array([[0,0],[0,1],[1,0],[1,1]])\n",
        "d = np.array([0, 0, 0, 1])\n",
        "\n",
        "perceptron = Perceptron(input_size=2)\n",
        "perceptron.fit(X, d)\n",
        "\n",
        "print(perceptron.W)"
      ]
    }
  ]
}