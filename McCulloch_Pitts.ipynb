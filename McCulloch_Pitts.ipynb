{
  "nbformat": 4,
  "nbformat_minor": 0,
  "metadata": {
    "colab": {
      "provenance": [],
      "authorship_tag": "ABX9TyPBSoDfs/VTcb8egPRGmJfN",
      "include_colab_link": true
    },
    "kernelspec": {
      "name": "python3",
      "display_name": "Python 3"
    },
    "language_info": {
      "name": "python"
    }
  },
  "cells": [
    {
      "cell_type": "markdown",
      "metadata": {
        "id": "view-in-github",
        "colab_type": "text"
      },
      "source": [
        "<a href=\"https://colab.research.google.com/github/AmbarM2609/technological-content/blob/main/McCulloch_Pitts.ipynb\" target=\"_parent\"><img src=\"https://colab.research.google.com/assets/colab-badge.svg\" alt=\"Open In Colab\"/></a>"
      ]
    },
    {
      "cell_type": "code",
      "source": [
        "def mcculloch_pitts(inputs, weights, threshold):\n",
        "    \"\"\"Implement the McCulloch-Pitts algorithm\"\"\"\n",
        "    # Calculate the weighted sum of the inputs\n",
        "    weighted_sum = sum([inputs[i] * weights[i] for i in range(len(inputs))])\n",
        "\n",
        "    # Apply the threshold function (i.e., the step function)\n",
        "    output = 1 if weighted_sum >= threshold else 0\n",
        "\n",
        "    return output"
      ],
      "metadata": {
        "id": "qQKNNEEMMbwn"
      },
      "execution_count": null,
      "outputs": []
    },
    {
      "cell_type": "code",
      "source": [
        "def and_gate(inputs):\n",
        "    \"\"\"Implement the AND gate using the McCulloch-Pitts algorithm\"\"\"\n",
        "    # Define the weights and threshold\n",
        "    weights = [1, 1]\n",
        "    threshold = 2\n",
        "\n",
        "    # Apply the McCulloch-Pitts algorithm\n",
        "    output = mcculloch_pitts(inputs, weights, threshold)\n",
        "\n",
        "    return output\n",
        "\n",
        "\n",
        "def or_gate(inputs):\n",
        "    \"\"\"Implement the OR gate using the McCulloch-Pitts algorithm\"\"\"\n",
        "    # Define the weights and threshold\n",
        "    weights = [1, 1]\n",
        "    threshold = 1\n",
        "\n",
        "    # Apply the McCulloch-Pitts algorithm\n",
        "    output = mcculloch_pitts(inputs, weights, threshold)\n",
        "\n",
        "    return output"
      ],
      "metadata": {
        "id": "Br6IyPSRLjTv"
      },
      "execution_count": null,
      "outputs": []
    },
    {
      "cell_type": "code",
      "source": [
        "# Define the inputs\n",
        "inputs = [1, 0]\n",
        "\n",
        "# Apply the AND gate\n",
        "and_output = and_gate(inputs)\n",
        "print(\"AND output:\", and_output)\n",
        "\n",
        "# Apply the OR gate\n",
        "or_output = or_gate(inputs)\n",
        "print(\"OR output:\", or_output)"
      ],
      "metadata": {
        "colab": {
          "base_uri": "https://localhost:8080/"
        },
        "id": "Ult3Nm8dLvrm",
        "outputId": "201df203-5aac-4cbf-8ede-1f606ae06cb8"
      },
      "execution_count": null,
      "outputs": [
        {
          "output_type": "stream",
          "name": "stdout",
          "text": [
            "AND output: 0\n",
            "OR output: 1\n"
          ]
        }
      ]
    }
  ]
}