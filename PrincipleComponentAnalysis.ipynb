{
  "nbformat": 4,
  "nbformat_minor": 0,
  "metadata": {
    "colab": {
      "provenance": [],
      "authorship_tag": "ABX9TyMGg9l6qniDcZcXanFG13lw",
      "include_colab_link": true
    },
    "kernelspec": {
      "name": "python3",
      "display_name": "Python 3"
    },
    "language_info": {
      "name": "python"
    }
  },
  "cells": [
    {
      "cell_type": "markdown",
      "metadata": {
        "id": "view-in-github",
        "colab_type": "text"
      },
      "source": [
        "<a href=\"https://colab.research.google.com/github/AmbarM2609/technological-content/blob/main/PCA.ipynb\" target=\"_parent\"><img src=\"https://colab.research.google.com/assets/colab-badge.svg\" alt=\"Open In Colab\"/></a>"
      ]
    },
    {
      "cell_type": "code",
      "execution_count": null,
      "metadata": {
        "id": "xxvvik0LWODU"
      },
      "outputs": [],
      "source": [
        "import numpy as np\n",
        "\n",
        "def pca(X, n_components):\n",
        "    # Standardize the data\n",
        "    X = (X - np.mean(X, axis=0)) / np.std(X, axis=0)\n",
        "    \n",
        "    # Compute the covariance matrix\n",
        "    cov_matrix = np.cov(X, rowvar=False)\n",
        "    \n",
        "    # Compute the eigenvectors and eigenvalues\n",
        "    eigenvalues, eigenvectors = np.linalg.eig(cov_matrix)\n",
        "    \n",
        "    # Sort the eigenvectors by descending eigenvalues\n",
        "    eigenvectors = eigenvectors[:, np.argsort(eigenvalues)[::-1]]\n",
        "    \n",
        "    # Take the top n_components eigenvectors\n",
        "    eigenvectors = eigenvectors[:, :n_components]\n",
        "    \n",
        "    # Compute the principal components\n",
        "    principal_components = np.dot(X, eigenvectors)\n",
        "    \n",
        "    return principal_components"
      ]
    }
  ]
}
