{
  "nbformat": 4,
  "nbformat_minor": 0,
  "metadata": {
    "colab": {
      "provenance": [],
      "authorship_tag": "ABX9TyPcQ2m/7gCnDMt9Z/Praf0a",
      "include_colab_link": true
    },
    "kernelspec": {
      "name": "python3",
      "display_name": "Python 3"
    },
    "language_info": {
      "name": "python"
    }
  },
  "cells": [
    {
      "cell_type": "markdown",
      "metadata": {
        "id": "view-in-github",
        "colab_type": "text"
      },
      "source": [
        "<a href=\"https://colab.research.google.com/github/AmbarM2609/technological-content/blob/main/HebbianL.ipynb\" target=\"_parent\"><img src=\"https://colab.research.google.com/assets/colab-badge.svg\" alt=\"Open In Colab\"/></a>"
      ]
    },
    {
      "cell_type": "code",
      "source": [
        "def hebbian_learning(samples):\n",
        "     print(f'{\"INPUT\":^8} {\"TARGET\":^16}{\"WEIGHT CHANGES\":^15}{\"WEIGHTS\":^25}')\n",
        "     w1, w2, b = 0, 0, 0\n",
        "     print(' ' * 45, f'({w1:2}, {w2:2}, {b:2})')\n",
        "     for x1, x2, y in samples:\n",
        "         w1 = w1 + x1 * y\n",
        "         w2 = w2 + x2 * y\n",
        "         b = b + y\n",
        "         print(f'({x1:2}, {x2:2}) {y:2} ({x1:2}, {x2:2}, {y:2}) ({w1:2}, {w2:2}, {b:2})')"
      ],
      "metadata": {
        "id": "D7gz0xwZ5x1H"
      },
      "execution_count": null,
      "outputs": []
    },
    {
      "cell_type": "code",
      "source": [
        "AND_samples = {\n",
        "    'binary_input_binary_output': [\n",
        "        [1, 1, 1],\n",
        "        [1, 0, 0],\n",
        "        [0, 1, 0],\n",
        "        [0, 0, 0]\n",
        "    ],\n",
        "    'binary_input_bipolar_output': [\n",
        "        [1, 1, 1],\n",
        "        [1, 0, -1],\n",
        "        [0, 1, -1],\n",
        "        [0, 0, -1]\n",
        "    ],\n",
        "    'bipolar_input_bipolar_output': [\n",
        "        [ 1, 1, 1],\n",
        "        [ 1, -1, -1],\n",
        "        [-1, 1, -1],\n",
        "        [-1, -1, -1]\n",
        "    ]\n",
        "}\n",
        "OR_samples = {\n",
        "    'binary_input_binary_output': [\n",
        "        [1, 1, 1],\n",
        "        [1, 0, 1],\n",
        "        [0, 1, 1],\n",
        "        [0, 0, 0]\n",
        "    ],\n",
        "    'binary_input_bipolar_output': [\n",
        "        [1, 1, 1],\n",
        "        [1, 0, 1],\n",
        "        [0, 1, 1],\n",
        "        [0, 0, -1]\n",
        "    ],\n",
        "    'bipolar_input_bipolar_output': [\n",
        "        [ 1, 1, 1],\n",
        "        [ 1, -1, 1],\n",
        "        [-1, 1, 1],\n",
        "        [-1, -1, -1]\n",
        "    ]\n",
        "}\n",
        "XOR_samples = {\n",
        "    'binary_input_binary_output': [\n",
        "        [1, 1, 0],\n",
        "        [1, 0, 1],\n",
        "        [0, 1, 1],\n",
        "        [0, 0, 0]\n",
        "    ],\n",
        "    'binary_input_bipolar_output': [\n",
        "        [1, 1, -1],\n",
        "        [1, 0, 1],\n",
        "        [0, 1, 1],\n",
        "        [0, 0, -1]\n",
        "    ],\n",
        "    'bipolar_input_bipolar_output': [\n",
        "        [ 1, 1, -1],\n",
        "        [ 1, -1, 1],\n",
        "        [-1, 1, 1],\n",
        "        [-1, -1, -1]\n",
        "    ]\n",
        "}"
      ],
      "metadata": {
        "id": "AsKYgyr152Yd"
      },
      "execution_count": null,
      "outputs": []
    },
    {
      "cell_type": "code",
      "source": [
        "print('-'*20, 'HEBBIAN LEARNING', '-'*20)\n",
        "print('AND with Binary Input and Binary Output')\n",
        "hebbian_learning(AND_samples['binary_input_binary_output'])\n",
        "print('AND with Binary Input and Bipolar Output')\n",
        "hebbian_learning(AND_samples['binary_input_bipolar_output'])\n",
        "print('AND with Bipolar Input and Bipolar Output')\n",
        "hebbian_learning(AND_samples['bipolar_input_bipolar_output'])"
      ],
      "metadata": {
        "colab": {
          "base_uri": "https://localhost:8080/"
        },
        "id": "SEYXakgz5-h_",
        "outputId": "0c25b74f-0bb7-425e-ad56-916bee50f1dc"
      },
      "execution_count": null,
      "outputs": [
        {
          "output_type": "stream",
          "name": "stdout",
          "text": [
            "-------------------- HEBBIAN LEARNING --------------------\n",
            "AND with Binary Input and Binary Output\n",
            " INPUT        TARGET     WEIGHT CHANGES          WEIGHTS         \n",
            "                                              ( 0,  0,  0)\n",
            "( 1,  1)  1 ( 1,  1,  1) ( 1,  1,  1)\n",
            "( 1,  0)  0 ( 1,  0,  0) ( 1,  1,  1)\n",
            "( 0,  1)  0 ( 0,  1,  0) ( 1,  1,  1)\n",
            "( 0,  0)  0 ( 0,  0,  0) ( 1,  1,  1)\n",
            "AND with Binary Input and Bipolar Output\n",
            " INPUT        TARGET     WEIGHT CHANGES          WEIGHTS         \n",
            "                                              ( 0,  0,  0)\n",
            "( 1,  1)  1 ( 1,  1,  1) ( 1,  1,  1)\n",
            "( 1,  0) -1 ( 1,  0, -1) ( 0,  1,  0)\n",
            "( 0,  1) -1 ( 0,  1, -1) ( 0,  0, -1)\n",
            "( 0,  0) -1 ( 0,  0, -1) ( 0,  0, -2)\n",
            "AND with Bipolar Input and Bipolar Output\n",
            " INPUT        TARGET     WEIGHT CHANGES          WEIGHTS         \n",
            "                                              ( 0,  0,  0)\n",
            "( 1,  1)  1 ( 1,  1,  1) ( 1,  1,  1)\n",
            "( 1, -1) -1 ( 1, -1, -1) ( 0,  2,  0)\n",
            "(-1,  1) -1 (-1,  1, -1) ( 1,  1, -1)\n",
            "(-1, -1) -1 (-1, -1, -1) ( 2,  2, -2)\n"
          ]
        }
      ]
    },
    {
      "cell_type": "code",
      "source": [
        "print('-'*20, 'HEBBIAN LEARNING', '-'*20)\n",
        "print('OR with binary input and binary output')\n",
        "hebbian_learning(OR_samples['binary_input_binary_output'])\n",
        "print('OR with binary input and bipolar output')\n",
        "hebbian_learning(OR_samples['binary_input_bipolar_output'])\n",
        "print('OR with bipolar input and bipolar output')\n",
        "hebbian_learning(OR_samples['bipolar_input_bipolar_output'])"
      ],
      "metadata": {
        "colab": {
          "base_uri": "https://localhost:8080/"
        },
        "id": "2yNJBToE6YvP",
        "outputId": "72ce6c54-35d3-4c48-f7a1-ebe9d283296c"
      },
      "execution_count": null,
      "outputs": [
        {
          "output_type": "stream",
          "name": "stdout",
          "text": [
            "-------------------- HEBBIAN LEARNING --------------------\n",
            "OR with binary input and binary output\n",
            " INPUT        TARGET     WEIGHT CHANGES          WEIGHTS         \n",
            "                                              ( 0,  0,  0)\n",
            "( 1,  1)  1 ( 1,  1,  1) ( 1,  1,  1)\n",
            "( 1,  0)  1 ( 1,  0,  1) ( 2,  1,  2)\n",
            "( 0,  1)  1 ( 0,  1,  1) ( 2,  2,  3)\n",
            "( 0,  0)  0 ( 0,  0,  0) ( 2,  2,  3)\n",
            "OR with binary input and bipolar output\n",
            " INPUT        TARGET     WEIGHT CHANGES          WEIGHTS         \n",
            "                                              ( 0,  0,  0)\n",
            "( 1,  1)  1 ( 1,  1,  1) ( 1,  1,  1)\n",
            "( 1,  0)  1 ( 1,  0,  1) ( 2,  1,  2)\n",
            "( 0,  1)  1 ( 0,  1,  1) ( 2,  2,  3)\n",
            "( 0,  0) -1 ( 0,  0, -1) ( 2,  2,  2)\n",
            "OR with bipolar input and bipolar output\n",
            " INPUT        TARGET     WEIGHT CHANGES          WEIGHTS         \n",
            "                                              ( 0,  0,  0)\n",
            "( 1,  1)  1 ( 1,  1,  1) ( 1,  1,  1)\n",
            "( 1, -1)  1 ( 1, -1,  1) ( 2,  0,  2)\n",
            "(-1,  1)  1 (-1,  1,  1) ( 1,  1,  3)\n",
            "(-1, -1) -1 (-1, -1, -1) ( 2,  2,  2)\n"
          ]
        }
      ]
    },
    {
      "cell_type": "code",
      "source": [
        "print('-'*20, 'HEBBIAN LEARNING', '-'*20)\n",
        "print('XOR with binary input and binary output')\n",
        "hebbian_learning(XOR_samples['binary_input_binary_output'])\n",
        "print('XOR with binary input and bipolar output')\n",
        "hebbian_learning(XOR_samples['binary_input_bipolar_output'])\n",
        "print('XOR with bipolar input and bipolar output')\n",
        "hebbian_learning(XOR_samples['bipolar_input_bipolar_output'])"
      ],
      "metadata": {
        "colab": {
          "base_uri": "https://localhost:8080/"
        },
        "id": "X2qJCXIy6dpj",
        "outputId": "82d2a84c-ff16-4ef3-8b7d-5f0bc0e102dc"
      },
      "execution_count": null,
      "outputs": [
        {
          "output_type": "stream",
          "name": "stdout",
          "text": [
            "-------------------- HEBBIAN LEARNING --------------------\n",
            "XOR with binary input and binary output\n",
            " INPUT        TARGET     WEIGHT CHANGES          WEIGHTS         \n",
            "                                              ( 0,  0,  0)\n",
            "( 1,  1)  0 ( 1,  1,  0) ( 0,  0,  0)\n",
            "( 1,  0)  1 ( 1,  0,  1) ( 1,  0,  1)\n",
            "( 0,  1)  1 ( 0,  1,  1) ( 1,  1,  2)\n",
            "( 0,  0)  0 ( 0,  0,  0) ( 1,  1,  2)\n",
            "XOR with binary input and bipolar output\n",
            " INPUT        TARGET     WEIGHT CHANGES          WEIGHTS         \n",
            "                                              ( 0,  0,  0)\n",
            "( 1,  1) -1 ( 1,  1, -1) (-1, -1, -1)\n",
            "( 1,  0)  1 ( 1,  0,  1) ( 0, -1,  0)\n",
            "( 0,  1)  1 ( 0,  1,  1) ( 0,  0,  1)\n",
            "( 0,  0) -1 ( 0,  0, -1) ( 0,  0,  0)\n",
            "XOR with bipolar input and bipolar output\n",
            " INPUT        TARGET     WEIGHT CHANGES          WEIGHTS         \n",
            "                                              ( 0,  0,  0)\n",
            "( 1,  1) -1 ( 1,  1, -1) (-1, -1, -1)\n",
            "( 1, -1)  1 ( 1, -1,  1) ( 0, -2,  0)\n",
            "(-1,  1)  1 (-1,  1,  1) (-1, -1,  1)\n",
            "(-1, -1) -1 (-1, -1, -1) ( 0,  0,  0)\n"
          ]
        }
      ]
    }
  ]
}
